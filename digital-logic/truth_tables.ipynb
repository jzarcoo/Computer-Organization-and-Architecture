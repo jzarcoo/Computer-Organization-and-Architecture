{
  "nbformat": 4,
  "nbformat_minor": 0,
  "metadata": {
    "colab": {
      "provenance": []
    },
    "kernelspec": {
      "name": "python3",
      "display_name": "Python 3"
    },
    "language_info": {
      "name": "python"
    }
  },
  "cells": [
    {
      "cell_type": "code",
      "source": [
        " !pip install svgling\n",
        " from svgling import draw_tree"
      ],
      "metadata": {
        "colab": {
          "base_uri": "https://localhost:8080/"
        },
        "id": "tZjqedNZpLiO",
        "outputId": "6288c904-3f50-488a-f164-902595eba298"
      },
      "execution_count": null,
      "outputs": [
        {
          "output_type": "stream",
          "name": "stdout",
          "text": [
            "Collecting svgling\n",
            "  Downloading svgling-0.5.0-py3-none-any.whl.metadata (7.4 kB)\n",
            "Collecting svgwrite (from svgling)\n",
            "  Downloading svgwrite-1.4.3-py3-none-any.whl.metadata (8.8 kB)\n",
            "Downloading svgling-0.5.0-py3-none-any.whl (31 kB)\n",
            "Downloading svgwrite-1.4.3-py3-none-any.whl (67 kB)\n",
            "\u001b[2K   \u001b[90m━━━━━━━━━━━━━━━━━━━━━━━━━━━━━━━━━━━━━━━━\u001b[0m \u001b[32m67.1/67.1 kB\u001b[0m \u001b[31m2.6 MB/s\u001b[0m eta \u001b[36m0:00:00\u001b[0m\n",
            "\u001b[?25hInstalling collected packages: svgwrite, svgling\n",
            "Successfully installed svgling-0.5.0 svgwrite-1.4.3\n"
          ]
        }
      ]
    },
    {
      "cell_type": "code",
      "execution_count": null,
      "metadata": {
        "id": "ToYlWnhlpHk0"
      },
      "outputs": [],
      "source": [
        "from nltk.grammar import CFG\n",
        "from nltk import ChartParser"
      ]
    },
    {
      "cell_type": "code",
      "source": [
        " grammar = CFG.fromstring(\"\"\"\n",
        "    E -> '⊤' | '⊥' |'p' | 'q' | 'r' | 'a' | 'b' | 'c' | 'd'\n",
        "    E -> '¬' E | E '∨' E | E '∧' E | E '→' E | E '↔' E | '(' E ')'\n",
        "    \"\"\")\n",
        "parser = ChartParser(grammar)"
      ],
      "metadata": {
        "id": "RLRBAZF0pMGw"
      },
      "execution_count": null,
      "outputs": []
    },
    {
      "cell_type": "code",
      "source": [
        "def arbolito(*args):\n",
        "    trees = []\n",
        "    for a in args:\n",
        "      trees = trees + list(parser.parse(a))\n",
        "\n",
        "    print(len(trees), 'maneras diferentes')\n",
        "\n",
        "    for tree in trees:\n",
        "        print(tree, end=\"\\n\")\n",
        "\n",
        "    return trees[0]"
      ],
      "metadata": {
        "id": "fb0E0qqOsDap"
      },
      "execution_count": null,
      "outputs": []
    },
    {
      "cell_type": "code",
      "source": [
        "A = list('¬(p∧q)↔¬p∨¬q')\n",
        "arbolito(A)"
      ],
      "metadata": {
        "colab": {
          "base_uri": "https://localhost:8080/",
          "height": 480
        },
        "id": "15Z4CkttpSJZ",
        "outputId": "8645ffef-6376-4c47-eb46-9f76343e738e"
      },
      "execution_count": null,
      "outputs": [
        {
          "output_type": "stream",
          "name": "stdout",
          "text": [
            "7 maneras diferentes\n",
            "(E (E ¬ (E (E ( (E (E p) ∧ (E q)) )) ↔ (E ¬ (E p)))) ∨ (E ¬ (E q)))\n",
            "(E (E (E ¬ (E ( (E (E p) ∧ (E q)) ))) ↔ (E ¬ (E p))) ∨ (E ¬ (E q)))\n",
            "(E (E ¬ (E ( (E (E p) ∧ (E q)) ))) ↔ (E ¬ (E (E p) ∨ (E ¬ (E q)))))\n",
            "(E (E ¬ (E ( (E (E p) ∧ (E q)) ))) ↔ (E (E ¬ (E p)) ∨ (E ¬ (E q))))\n",
            "(E ¬ (E (E ( (E (E p) ∧ (E q)) )) ↔ (E ¬ (E (E p) ∨ (E ¬ (E q))))))\n",
            "(E ¬ (E (E ( (E (E p) ∧ (E q)) )) ↔ (E (E ¬ (E p)) ∨ (E ¬ (E q)))))\n",
            "(E ¬ (E (E (E ( (E (E p) ∧ (E q)) )) ↔ (E ¬ (E p))) ∨ (E ¬ (E q))))\n"
          ]
        },
        {
          "output_type": "execute_result",
          "data": {
            "text/plain": [
              "Tree('E', [Tree('E', ['¬', Tree('E', [Tree('E', ['(', Tree('E', [Tree('E', ['p']), '∧', Tree('E', ['q'])]), ')']), '↔', Tree('E', ['¬', Tree('E', ['p'])])])]), '∨', Tree('E', ['¬', Tree('E', ['q'])])])"
            ],
            "image/svg+xml": "<svg baseProfile=\"full\" height=\"312px\" preserveAspectRatio=\"xMidYMid meet\" style=\"font-family: times, serif; font-weight: normal; font-style: normal; font-size: 16px\" version=\"1.1\" viewBox=\"0,0,288.0,312.0\" width=\"288px\" xmlns=\"http://www.w3.org/2000/svg\" xmlns:ev=\"http://www.w3.org/2001/xml-events\" xmlns:xlink=\"http://www.w3.org/1999/xlink\"><defs /><svg width=\"100%\" x=\"0\" y=\"0px\"><defs /><text text-anchor=\"middle\" x=\"50%\" y=\"16px\">E</text></svg><svg width=\"75%\" x=\"0%\" y=\"48px\"><defs /><svg width=\"100%\" x=\"0\" y=\"0px\"><defs /><text text-anchor=\"middle\" x=\"50%\" y=\"16px\">E</text></svg><svg width=\"11.1111%\" x=\"0%\" y=\"48px\"><defs /><svg width=\"100%\" x=\"0\" y=\"0px\"><defs /><text text-anchor=\"middle\" x=\"50%\" y=\"16px\">¬</text></svg></svg><line stroke=\"black\" x1=\"50%\" x2=\"5.55556%\" y1=\"20px\" y2=\"48px\" /><svg width=\"88.8889%\" x=\"11.1111%\" y=\"48px\"><defs /><svg width=\"100%\" x=\"0\" y=\"0px\"><defs /><text text-anchor=\"middle\" x=\"50%\" y=\"16px\">E</text></svg><svg width=\"62.5%\" x=\"0%\" y=\"48px\"><defs /><svg width=\"100%\" x=\"0\" y=\"0px\"><defs /><text text-anchor=\"middle\" x=\"50%\" y=\"16px\">E</text></svg><svg width=\"20%\" x=\"0%\" y=\"48px\"><defs /><svg width=\"100%\" x=\"0\" y=\"0px\"><defs /><text text-anchor=\"middle\" x=\"50%\" y=\"16px\">(</text></svg></svg><line stroke=\"black\" x1=\"50%\" x2=\"10%\" y1=\"20px\" y2=\"48px\" /><svg width=\"60%\" x=\"20%\" y=\"48px\"><defs /><svg width=\"100%\" x=\"0\" y=\"0px\"><defs /><text text-anchor=\"middle\" x=\"50%\" y=\"16px\">E</text></svg><svg width=\"33.3333%\" x=\"0%\" y=\"48px\"><defs /><svg width=\"100%\" x=\"0\" y=\"0px\"><defs /><text text-anchor=\"middle\" x=\"50%\" y=\"16px\">E</text></svg><svg width=\"100%\" x=\"0%\" y=\"48px\"><defs /><svg width=\"100%\" x=\"0\" y=\"0px\"><defs /><text text-anchor=\"middle\" x=\"50%\" y=\"16px\">p</text></svg></svg><line stroke=\"black\" x1=\"50%\" x2=\"50%\" y1=\"20px\" y2=\"48px\" /></svg><line stroke=\"black\" x1=\"50%\" x2=\"16.6667%\" y1=\"20px\" y2=\"48px\" /><svg width=\"33.3333%\" x=\"33.3333%\" y=\"48px\"><defs /><svg width=\"100%\" x=\"0\" y=\"0px\"><defs /><text text-anchor=\"middle\" x=\"50%\" y=\"16px\">∧</text></svg></svg><line stroke=\"black\" x1=\"50%\" x2=\"50%\" y1=\"20px\" y2=\"48px\" /><svg width=\"33.3333%\" x=\"66.6667%\" y=\"48px\"><defs /><svg width=\"100%\" x=\"0\" y=\"0px\"><defs /><text text-anchor=\"middle\" x=\"50%\" y=\"16px\">E</text></svg><svg width=\"100%\" x=\"0%\" y=\"48px\"><defs /><svg width=\"100%\" x=\"0\" y=\"0px\"><defs /><text text-anchor=\"middle\" x=\"50%\" y=\"16px\">q</text></svg></svg><line stroke=\"black\" x1=\"50%\" x2=\"50%\" y1=\"20px\" y2=\"48px\" /></svg><line stroke=\"black\" x1=\"50%\" x2=\"83.3333%\" y1=\"20px\" y2=\"48px\" /></svg><line stroke=\"black\" x1=\"50%\" x2=\"50%\" y1=\"20px\" y2=\"48px\" /><svg width=\"20%\" x=\"80%\" y=\"48px\"><defs /><svg width=\"100%\" x=\"0\" y=\"0px\"><defs /><text text-anchor=\"middle\" x=\"50%\" y=\"16px\">)</text></svg></svg><line stroke=\"black\" x1=\"50%\" x2=\"90%\" y1=\"20px\" y2=\"48px\" /></svg><line stroke=\"black\" x1=\"50%\" x2=\"31.25%\" y1=\"20px\" y2=\"48px\" /><svg width=\"12.5%\" x=\"62.5%\" y=\"48px\"><defs /><svg width=\"100%\" x=\"0\" y=\"0px\"><defs /><text text-anchor=\"middle\" x=\"50%\" y=\"16px\">↔</text></svg></svg><line stroke=\"black\" x1=\"50%\" x2=\"68.75%\" y1=\"20px\" y2=\"48px\" /><svg width=\"25%\" x=\"75%\" y=\"48px\"><defs /><svg width=\"100%\" x=\"0\" y=\"0px\"><defs /><text text-anchor=\"middle\" x=\"50%\" y=\"16px\">E</text></svg><svg width=\"50%\" x=\"0%\" y=\"48px\"><defs /><svg width=\"100%\" x=\"0\" y=\"0px\"><defs /><text text-anchor=\"middle\" x=\"50%\" y=\"16px\">¬</text></svg></svg><line stroke=\"black\" x1=\"50%\" x2=\"25%\" y1=\"20px\" y2=\"48px\" /><svg width=\"50%\" x=\"50%\" y=\"48px\"><defs /><svg width=\"100%\" x=\"0\" y=\"0px\"><defs /><text text-anchor=\"middle\" x=\"50%\" y=\"16px\">E</text></svg><svg width=\"100%\" x=\"0%\" y=\"48px\"><defs /><svg width=\"100%\" x=\"0\" y=\"0px\"><defs /><text text-anchor=\"middle\" x=\"50%\" y=\"16px\">p</text></svg></svg><line stroke=\"black\" x1=\"50%\" x2=\"50%\" y1=\"20px\" y2=\"48px\" /></svg><line stroke=\"black\" x1=\"50%\" x2=\"75%\" y1=\"20px\" y2=\"48px\" /></svg><line stroke=\"black\" x1=\"50%\" x2=\"87.5%\" y1=\"20px\" y2=\"48px\" /></svg><line stroke=\"black\" x1=\"50%\" x2=\"55.5556%\" y1=\"20px\" y2=\"48px\" /></svg><line stroke=\"black\" x1=\"50%\" x2=\"37.5%\" y1=\"20px\" y2=\"48px\" /><svg width=\"8.33333%\" x=\"75%\" y=\"48px\"><defs /><svg width=\"100%\" x=\"0\" y=\"0px\"><defs /><text text-anchor=\"middle\" x=\"50%\" y=\"16px\">∨</text></svg></svg><line stroke=\"black\" x1=\"50%\" x2=\"79.1667%\" y1=\"20px\" y2=\"48px\" /><svg width=\"16.6667%\" x=\"83.3333%\" y=\"48px\"><defs /><svg width=\"100%\" x=\"0\" y=\"0px\"><defs /><text text-anchor=\"middle\" x=\"50%\" y=\"16px\">E</text></svg><svg width=\"50%\" x=\"0%\" y=\"48px\"><defs /><svg width=\"100%\" x=\"0\" y=\"0px\"><defs /><text text-anchor=\"middle\" x=\"50%\" y=\"16px\">¬</text></svg></svg><line stroke=\"black\" x1=\"50%\" x2=\"25%\" y1=\"20px\" y2=\"48px\" /><svg width=\"50%\" x=\"50%\" y=\"48px\"><defs /><svg width=\"100%\" x=\"0\" y=\"0px\"><defs /><text text-anchor=\"middle\" x=\"50%\" y=\"16px\">E</text></svg><svg width=\"100%\" x=\"0%\" y=\"48px\"><defs /><svg width=\"100%\" x=\"0\" y=\"0px\"><defs /><text text-anchor=\"middle\" x=\"50%\" y=\"16px\">q</text></svg></svg><line stroke=\"black\" x1=\"50%\" x2=\"50%\" y1=\"20px\" y2=\"48px\" /></svg><line stroke=\"black\" x1=\"50%\" x2=\"75%\" y1=\"20px\" y2=\"48px\" /></svg><line stroke=\"black\" x1=\"50%\" x2=\"91.6667%\" y1=\"20px\" y2=\"48px\" /></svg>"
          },
          "metadata": {},
          "execution_count": 6
        }
      ]
    },
    {
      "cell_type": "code",
      "source": [
        "import pandas as pd\n",
        "import itertools"
      ],
      "metadata": {
        "id": "KfB-1A6U1hr3"
      },
      "execution_count": null,
      "outputs": []
    },
    {
      "cell_type": "code",
      "source": [
        "def bool_to_str(valor):\n",
        "    return \"V\" if valor else \"F\""
      ],
      "metadata": {
        "id": "Bp7vQCHf1nxJ"
      },
      "execution_count": null,
      "outputs": []
    },
    {
      "cell_type": "code",
      "source": [
        "# Genera todas las combinaciones posibles de valores True y False\n",
        "def generar_valores(num_variables):\n",
        "    return list(itertools.product([True, False], repeat=num_variables))"
      ],
      "metadata": {
        "id": "IKIwAcEl6Kog"
      },
      "execution_count": null,
      "outputs": []
    },
    {
      "cell_type": "code",
      "source": [
        "def get_minterminos(df, num_variables):\n",
        "    resultados = []\n",
        "    for _, row in df.iterrows():\n",
        "        if row.iloc[-1] == \"V\":\n",
        "            bin_str = ''.join(['1' if val == 'V' else '0' for val in row.iloc[:num_variables]])\n",
        "            entero = int(bin_str, 2)\n",
        "            resultados.append(entero)\n",
        "    return resultados"
      ],
      "metadata": {
        "id": "a5uavKP_6BHw"
      },
      "execution_count": null,
      "outputs": []
    },
    {
      "cell_type": "code",
      "source": [
        "import matplotlib.pyplot as plt\n",
        "import pandas as pd"
      ],
      "metadata": {
        "id": "vj0ZuM_YGop8"
      },
      "execution_count": null,
      "outputs": []
    },
    {
      "cell_type": "code",
      "source": [
        "def image(df, nombre_archivo):\n",
        "  fig, ax = plt.subplots(figsize=(8, 4))\n",
        "\n",
        "  ax.axis('off')\n",
        "\n",
        "  tabla = ax.table(cellText=df.values, colLabels=df.columns, cellLoc='center', loc='center')\n",
        "\n",
        "  tabla.auto_set_font_size(False)\n",
        "  tabla.set_fontsize(12)\n",
        "  tabla.scale(2, 2)\n",
        "\n",
        "  for i, col in enumerate(df.columns):\n",
        "    tabla.auto_set_column_width([i])\n",
        "\n",
        "  plt.savefig(f'{nombre_archivo}.png', bbox_inches='tight', dpi=500)\n",
        "\n",
        "  plt.show()"
      ],
      "metadata": {
        "id": "fr6wQia-GlMl"
      },
      "execution_count": null,
      "outputs": []
    },
    {
      "cell_type": "code",
      "source": [
        "# Ejercicio a)\n",
        "\n",
        "num_variables = 2\n",
        "valores = generar_valores(num_variables)\n",
        "\n",
        "tabla_verdad = [\n",
        "    [bool_to_str(p),\n",
        "     bool_to_str(q),\n",
        "     bool_to_str(p and q),\n",
        "     bool_to_str(not (p and q)),\n",
        "     bool_to_str(not p),\n",
        "     bool_to_str(not q),\n",
        "     bool_to_str(not p or not q),\n",
        "     bool_to_str(not (p and q) == (not p or not q))]\n",
        "    for p, q in valores\n",
        "]\n",
        "\n",
        "df = pd.DataFrame(tabla_verdad, columns=[\" p \", \" q \", \"p ∧ q\", \"¬(p ∧ q)\", \"¬p\", \"¬q\", \"¬p ∨ ¬q\", \"¬(p ∧ q) ↔ (¬p ∨ ¬q)\"])\n",
        "print('Mintérminos: ', get_minterminos(df, num_variables))\n",
        "image(df, '1a')\n",
        "#df"
      ],
      "metadata": {
        "colab": {
          "base_uri": "https://localhost:8080/",
          "height": 363
        },
        "id": "pCu7GwTctukl",
        "outputId": "9c0acb58-6cd3-4cea-98de-eb3932c8344b"
      },
      "execution_count": null,
      "outputs": [
        {
          "output_type": "stream",
          "name": "stdout",
          "text": [
            "Mintérminos:  [3, 2, 1, 0]\n"
          ]
        },
        {
          "output_type": "display_data",
          "data": {
            "text/plain": [
              "<Figure size 800x400 with 1 Axes>"
            ],
            "image/png": "[encoded data removed]"
          },
          "metadata": {}
        }
      ]
    },
    {
      "cell_type": "code",
      "source": [
        "# Ejercicio b)\n",
        "\n",
        "num_variables = 2\n",
        "valores = generar_valores(num_variables)\n",
        "\n",
        "tabla_verdad = [\n",
        "    [bool_to_str(p),\n",
        "     bool_to_str(q),\n",
        "     bool_to_str(p and q),\n",
        "     bool_to_str(p or (p and q)),\n",
        "     bool_to_str((p or (p and q)) == p)]\n",
        "    for p, q in valores\n",
        "]\n",
        "\n",
        "df = pd.DataFrame(tabla_verdad, columns=[\" p \", \" q \", \"p ∧ q\", \"p ∨ (p ∧ q)\", \"p ∨ (p ∧ q) ↔ p\"])\n",
        "print('Mintérminos: ', get_minterminos(df, num_variables))\n",
        "image(df, '1b')\n",
        "#df"
      ],
      "metadata": {
        "colab": {
          "base_uri": "https://localhost:8080/",
          "height": 363
        },
        "id": "GlL2BTgouMFi",
        "outputId": "a40ab989-1d71-4f8e-9b02-969531ee2a2c"
      },
      "execution_count": null,
      "outputs": [
        {
          "output_type": "stream",
          "name": "stdout",
          "text": [
            "Mintérminos:  [3, 2, 1, 0]\n"
          ]
        },
        {
          "output_type": "display_data",
          "data": {
            "text/plain": [
              "<Figure size 800x400 with 1 Axes>"
            ],
            "image/png": "[encoded data removed]"
          },
          "metadata": {}
        }
      ]
    },
    {
      "cell_type": "code",
      "source": [
        "# Ejercicio c)\n",
        "\n",
        "num_variables = 3\n",
        "valores = generar_valores(num_variables)\n",
        "\n",
        "tabla_verdad = [\n",
        "    [bool_to_str(p),\n",
        "     bool_to_str(q),\n",
        "     bool_to_str(r),\n",
        "     bool_to_str(p and q),\n",
        "     bool_to_str(p and q or r),\n",
        "     bool_to_str(((p and q) or r) <= q)]\n",
        "    for p, q, r in valores\n",
        "]\n",
        "\n",
        "df = pd.DataFrame(tabla_verdad, columns=[\" p \", \" q \", \" r \", \"p ∧ q\", \"(p ∧ q) ∨ r\", \"(p ∧ q) ∨ r → q\"])\n",
        "image(df, '1c')\n",
        "print('Mintérminos: ', get_minterminos(df, num_variables))\n",
        "#df"
      ],
      "metadata": {
        "colab": {
          "base_uri": "https://localhost:8080/",
          "height": 363
        },
        "id": "QTE-jU1R3Lsn",
        "outputId": "86127a56-da9e-49f5-db02-d94152d63d0a"
      },
      "execution_count": null,
      "outputs": [
        {
          "output_type": "display_data",
          "data": {
            "text/plain": [
              "<Figure size 800x400 with 1 Axes>"
            ],
            "image/png": "[encoded data removed]"
          },
          "metadata": {}
        },
        {
          "output_type": "stream",
          "name": "stdout",
          "text": [
            "Mintérminos:  [7, 6, 4, 3, 2, 0]\n"
          ]
        }
      ]
    },
    {
      "cell_type": "code",
      "source": [
        "# Ejercicio c)\n",
        "# Solución con Algoritmo Quine-McCluskey\n",
        "\n",
        "num_variables = 3\n",
        "valores = generar_valores(num_variables)\n",
        "\n",
        "tabla_verdad = [\n",
        "    [bool_to_str(p),\n",
        "     bool_to_str(q),\n",
        "     bool_to_str(r),\n",
        "     bool_to_str(p and q),\n",
        "     bool_to_str(p and q or r),\n",
        "     bool_to_str(((p and q) or r) <= q),\n",
        "     bool_to_str((not r) or q)]\n",
        "    for p, q, r in valores\n",
        "]\n",
        "\n",
        "df = pd.DataFrame(tabla_verdad, columns=[\" p \", \" q \", \" r \", \"p ∧ q\", \"(p ∧ q) ∨ r\", \"(p ∧ q) ∨ r → q\", \"¬ r ∨ q\"])\n",
        "image(df, '1c_res')\n",
        "print('¬ r ∨ q es solución:', (df.iloc[1:, -1] == df.iloc[1:, -2]).all())\n",
        "print('Mintérminos: ', get_minterminos(df, num_variables))\n",
        "#df"
      ],
      "metadata": {
        "colab": {
          "base_uri": "https://localhost:8080/",
          "height": 382
        },
        "outputId": "c323b3d1-611d-4e4d-ce42-1016b6aa6bd3",
        "id": "047Ns7Yo-HBa"
      },
      "execution_count": null,
      "outputs": [
        {
          "output_type": "display_data",
          "data": {
            "text/plain": [
              "<Figure size 800x400 with 1 Axes>"
            ],
            "image/png": "[encoded data removed]"
          },
          "metadata": {}
        },
        {
          "output_type": "stream",
          "name": "stdout",
          "text": [
            "¬ r ∨ q es solución: True\n",
            "Mintérminos:  [7, 6, 4, 3, 2, 0]\n"
          ]
        }
      ]
    },
    {
      "cell_type": "code",
      "source": [
        "# Ejercicio d)\n",
        "\n",
        "num_variables = 3\n",
        "valores = generar_valores(num_variables)\n",
        "\n",
        "tabla_verdad = [\n",
        "    [bool_to_str(p),\n",
        "     bool_to_str(q),\n",
        "     bool_to_str(r),\n",
        "     bool_to_str((not p or q)),\n",
        "     bool_to_str((not q or r)),\n",
        "     bool_to_str(((not p or q) and (not q or r))),\n",
        "     bool_to_str((not p or r)),\n",
        "     bool_to_str(((not p or q) and (not q or r)) <= (not p or r))]\n",
        "    for p, q, r in valores\n",
        "]\n",
        "\n",
        "df = pd.DataFrame(tabla_verdad, columns=[\" p \", \" q \", \" r \", \"p → q\", \"q → r\", \"(p → q) ∧ (q → r)\", \"p → r\", \"((p → q) ∧ (q → r)) → (p → r)\"])\n",
        "image(df, '1d')\n",
        "print('Mintérminos: ', get_minterminos(df, num_variables))\n",
        "#df"
      ],
      "metadata": {
        "colab": {
          "base_uri": "https://localhost:8080/",
          "height": 363
        },
        "id": "97acNwIg3rX7",
        "outputId": "78a514d8-6a4a-4a0d-efcf-e01dc9b903dc"
      },
      "execution_count": null,
      "outputs": [
        {
          "output_type": "display_data",
          "data": {
            "text/plain": [
              "<Figure size 800x400 with 1 Axes>"
            ],
            "image/png": "[encoded data removed]"
          },
          "metadata": {}
        },
        {
          "output_type": "stream",
          "name": "stdout",
          "text": [
            "Mintérminos:  [7, 6, 5, 4, 3, 2, 1, 0]\n"
          ]
        }
      ]
    },
    {
      "cell_type": "code",
      "source": [
        "# Ejercicio 5.a)\n",
        "\n",
        "num_variables = 2\n",
        "valores = generar_valores(num_variables)\n",
        "\n",
        "tabla_verdad = [\n",
        "    [bool_to_str(p),\n",
        "     bool_to_str(q),\n",
        "     bool_to_str(p and q),\n",
        "     bool_to_str(not p),\n",
        "     bool_to_str(not q),\n",
        "     bool_to_str(not p and not q),\n",
        "     bool_to_str((p and q) or (not p and not q))]\n",
        "       for p, q in valores\n",
        "]\n",
        "\n",
        "df = pd.DataFrame(tabla_verdad, columns=[\" p \", \" q \", \" p ∧ q \", \" ¬ p \", \" ¬ q \", \" ¬ p ∧ ¬ q \", \" (p ∧ q) ∨ (¬ p ∧ ¬ q) \"])\n",
        "image(df, '5a')\n",
        "print('Mintérminos: ', get_minterminos(df, num_variables))\n",
        "#df"
      ],
      "metadata": {
        "colab": {
          "base_uri": "https://localhost:8080/",
          "height": 363
        },
        "id": "A1oS0pbMAPaz",
        "outputId": "dd5aed63-0e3d-471c-b239-ee6e853739d3"
      },
      "execution_count": null,
      "outputs": [
        {
          "output_type": "display_data",
          "data": {
            "text/plain": [
              "<Figure size 800x400 with 1 Axes>"
            ],
            "image/png": "[encoded data removed]"
          },
          "metadata": {}
        },
        {
          "output_type": "stream",
          "name": "stdout",
          "text": [
            "Mintérminos:  [3, 0]\n"
          ]
        }
      ]
    },
    {
      "cell_type": "code",
      "source": [],
      "metadata": {
        "id": "PToSWHvAwjRu"
      },
      "execution_count": null,
      "outputs": []
    }
  ]
}